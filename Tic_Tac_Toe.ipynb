{
 "cells": [
  {
   "cell_type": "code",
   "execution_count": 1,
   "id": "a978cd2d-21cd-4732-9446-3171e3417e9e",
   "metadata": {},
   "outputs": [],
   "source": [
    "from IPython.display import clear_output\n"
   ]
  },
  {
   "cell_type": "code",
   "execution_count": 22,
   "id": "b70bd230-ed3c-482d-b2f7-6e37756f9a90",
   "metadata": {},
   "outputs": [],
   "source": [
    "li = [\" \"]*10"
   ]
  },
  {
   "cell_type": "code",
   "execution_count": 23,
   "id": "5d7418a6-6e70-41d9-aeee-50be9346efa2",
   "metadata": {},
   "outputs": [
    {
     "data": {
      "text/plain": [
       "[' ', ' ', ' ', ' ', ' ', ' ', ' ', ' ', ' ', ' ']"
      ]
     },
     "execution_count": 23,
     "metadata": {},
     "output_type": "execute_result"
    }
   ],
   "source": [
    "li"
   ]
  },
  {
   "cell_type": "code",
   "execution_count": 24,
   "id": "cb2fe1fd-ddba-4020-b66e-99fc1fc16a6b",
   "metadata": {},
   "outputs": [],
   "source": [
    "def display():\n",
    "    print(li[7], \" | \", li[8], \" | \", li[9])\n",
    "    print(\"-\"*14)\n",
    "    print(li[4], \" | \", li[5], \" | \", li[6])\n",
    "    print(\"-\"*14)\n",
    "    print(li[1], \" | \", li[2], \" | \", li[3])\n",
    "    "
   ]
  },
  {
   "cell_type": "code",
   "execution_count": 25,
   "id": "1f1aedb2-4fcc-4cce-a3bc-c4b8bf84891a",
   "metadata": {},
   "outputs": [
    {
     "name": "stdout",
     "output_type": "stream",
     "text": [
      "   |     |   \n",
      "--------------\n",
      "   |     |   \n",
      "--------------\n",
      "   |     |   \n"
     ]
    }
   ],
   "source": [
    "display()"
   ]
  },
  {
   "cell_type": "code",
   "execution_count": 26,
   "id": "f11bb194-2a60-4a4c-805b-15542c6ddd2b",
   "metadata": {},
   "outputs": [],
   "source": [
    "li[5] = \"X\""
   ]
  },
  {
   "cell_type": "code",
   "execution_count": 27,
   "id": "74749e91-65dd-419e-8054-aeb386ed50c6",
   "metadata": {},
   "outputs": [
    {
     "name": "stdout",
     "output_type": "stream",
     "text": [
      "   |     |   \n",
      "--------------\n",
      "   |  X  |   \n",
      "--------------\n",
      "   |     |   \n"
     ]
    }
   ],
   "source": [
    "display()"
   ]
  },
  {
   "cell_type": "code",
   "execution_count": 28,
   "id": "58f7f332-6dca-4bca-892e-a49f9a172a5c",
   "metadata": {},
   "outputs": [],
   "source": [
    "def empty_positions():\n",
    "    ans = []\n",
    "    for i in range(1, len(li)):\n",
    "        if li[i] == \" \":\n",
    "            ans.append(i)\n",
    "    return ans"
   ]
  },
  {
   "cell_type": "code",
   "execution_count": 30,
   "id": "f78b2131-cd5d-4463-8357-1657f2c8d86d",
   "metadata": {},
   "outputs": [
    {
     "data": {
      "text/plain": [
       "[1, 2, 3, 4, 6, 7, 8, 9]"
      ]
     },
     "execution_count": 30,
     "metadata": {},
     "output_type": "execute_result"
    }
   ],
   "source": [
    "empty_positions()"
   ]
  },
  {
   "cell_type": "code",
   "execution_count": 31,
   "id": "ee65458f-067e-4a33-8ac7-a3be261dddc9",
   "metadata": {},
   "outputs": [],
   "source": [
    "def take_position():\n",
    "    position = None\n",
    "    available = empty_positions()\n",
    "    while position is None:\n",
    "        try:\n",
    "            position = int(input(f'please chose among {available}'))\n",
    "        except ValueError:\n",
    "            print(f\"please provide a number among {available}\")\n",
    "        else:\n",
    "            if position in available:\n",
    "                return position\n",
    "            else:\n",
    "                print(f\"please provide a number among {available}\")\n",
    "                position = None"
   ]
  },
  {
   "cell_type": "code",
   "execution_count": 32,
   "id": "f0565f0c-7b16-49a8-a43c-d570fcaa76bd",
   "metadata": {},
   "outputs": [
    {
     "name": "stdin",
     "output_type": "stream",
     "text": [
      "please chose among [1, 2, 3, 4, 6, 7, 8, 9] 3\n"
     ]
    },
    {
     "data": {
      "text/plain": [
       "3"
      ]
     },
     "execution_count": 32,
     "metadata": {},
     "output_type": "execute_result"
    }
   ],
   "source": [
    "take_position()"
   ]
  },
  {
   "cell_type": "code",
   "execution_count": 34,
   "id": "b1278fa8-4098-468b-8f24-b095581eddb0",
   "metadata": {},
   "outputs": [],
   "source": [
    "def put_marker(position, marker):\n",
    "    li[position] = marker"
   ]
  },
  {
   "cell_type": "code",
   "execution_count": 39,
   "id": "c6c93529-ff29-4985-96bf-08a1b5c14fc4",
   "metadata": {},
   "outputs": [],
   "source": [
    "put_marker(3,\"x\")"
   ]
  },
  {
   "cell_type": "code",
   "execution_count": 40,
   "id": "bbc97914-7c31-4033-a443-e9d333fc2820",
   "metadata": {},
   "outputs": [
    {
     "name": "stdout",
     "output_type": "stream",
     "text": [
      "   |     |   \n",
      "--------------\n",
      "   |  X  |  O\n",
      "--------------\n",
      "   |     |  x\n"
     ]
    }
   ],
   "source": [
    "display()"
   ]
  },
  {
   "cell_type": "code",
   "execution_count": 41,
   "id": "9d37c992-6728-4156-b432-9839254d068e",
   "metadata": {},
   "outputs": [],
   "source": [
    "li[6]  = \"O\""
   ]
  },
  {
   "cell_type": "code",
   "execution_count": 42,
   "id": "053ae25b-4bb1-4c65-aa04-f687c32dba27",
   "metadata": {},
   "outputs": [
    {
     "name": "stdout",
     "output_type": "stream",
     "text": [
      "   |     |   \n",
      "--------------\n",
      "   |  X  |  O\n",
      "--------------\n",
      "   |     |  x\n"
     ]
    }
   ],
   "source": [
    "display()"
   ]
  },
  {
   "cell_type": "code",
   "execution_count": 43,
   "id": "15d1901f-2cae-4842-b7dc-ae9a71f01652",
   "metadata": {},
   "outputs": [],
   "source": [
    "def check_win():\n",
    "    # horizontal\n",
    "    if (li[7]==li[8]==li[9]!=\" \") or \\\n",
    "    (li[4]==li[5]==li[6]!=\" \") or \\\n",
    "    (li[1]==li[2]==li[3]!=\" \") or \\\n",
    "    (li[7]==li[4]==li[1]!=\" \") or \\\n",
    "    (li[8]==li[5]==li[2]!=\" \") or \\\n",
    "    (li[9]==li[6]==li[3]!=\" \") or \\\n",
    "    (li[7]==li[5]==li[3]!=\" \") or \\\n",
    "    (li[1]==li[5]==li[9]!=\" \"):\n",
    "        return True\n",
    "    else:\n",
    "        return False"
   ]
  },
  {
   "cell_type": "code",
   "execution_count": 44,
   "id": "1db81e33-ae02-411b-bc3f-a23b87a6cec0",
   "metadata": {},
   "outputs": [
    {
     "data": {
      "text/plain": [
       "False"
      ]
     },
     "execution_count": 44,
     "metadata": {},
     "output_type": "execute_result"
    }
   ],
   "source": [
    "check_win()"
   ]
  },
  {
   "cell_type": "code",
   "execution_count": 45,
   "id": "7800b76f-12f9-4674-8be7-88fb9b63d7ce",
   "metadata": {},
   "outputs": [],
   "source": [
    "def board_full():\n",
    "    if len(empty_positions())==0:\n",
    "        return True\n",
    "    else:\n",
    "        return False"
   ]
  },
  {
   "cell_type": "code",
   "execution_count": 46,
   "id": "3a969631-f5f6-440e-850f-fc4345282b59",
   "metadata": {},
   "outputs": [],
   "source": [
    "def change_marker(marker):\n",
    "    if marker == \"0\":\n",
    "        return \"x\"\n",
    "    else:\n",
    "        return \"0\"\n",
    "    "
   ]
  },
  {
   "cell_type": "code",
   "execution_count": 23,
   "id": "761aa618-6443-4a9d-b986-612576d2f2df",
   "metadata": {},
   "outputs": [
    {
     "name": "stdout",
     "output_type": "stream",
     "text": [
      "x  |     |   \n",
      "--------------\n",
      "0  |  x  |  0\n",
      "--------------\n",
      "x  |  0  |  x\n",
      "congratulations x won the game\n"
     ]
    }
   ],
   "source": [
    "li = [\" \"]*10\n",
    "game = True\n",
    "marker = \"O\"\n",
    "display()\n",
    "while game:\n",
    "    position = take_position()\n",
    "    put_marker(position, marker)\n",
    "    clear_output()\n",
    "    display()\n",
    "    if check_win():\n",
    "        print(f\"congratulations {marker} won the game\")\n",
    "        game = False\n",
    "        break\n",
    "    elif board_full():\n",
    "        print(f'board full, game draw, do you want to play again')\n",
    "        playAgain = input('do you want to play again, yes, no?')\n",
    "        try:\n",
    "            if playAgain[0] in ('y', \"Y\"):\n",
    "                li = [\" \"]*10\n",
    "                print(\"new game\")\n",
    "                display()\n",
    "                game = True\n",
    "            else:\n",
    "                game = False\n",
    "                break\n",
    "        except:\n",
    "            game = False\n",
    "            break\n",
    "    else:\n",
    "        marker = change_marker(marker)"
   ]
  },
  {
   "cell_type": "code",
   "execution_count": 68,
   "id": "b04cf17a-6140-4fc8-abf8-b50cb35be6b5",
   "metadata": {},
   "outputs": [],
   "source": [
    "li = [\"X\"]*10"
   ]
  },
  {
   "cell_type": "code",
   "execution_count": 69,
   "id": "8fee0eca-68a8-4e4b-83ec-92a82095b184",
   "metadata": {},
   "outputs": [],
   "source": [
    "li[5] = \"O\""
   ]
  },
  {
   "cell_type": "code",
   "execution_count": 70,
   "id": "a4280b4d-1aef-4d93-ae16-471f8ac03e40",
   "metadata": {},
   "outputs": [],
   "source": [
    "def display(li):\n",
    "    print(li[7], \"|\", li[8], \"|\", li[9])\n",
    "    print(\"-\"*10)\n",
    "    print(li[4], \"|\", li[5], \"|\", li[6])\n",
    "    print(\"-\"*10)\n",
    "    print(li[1], \"|\", li[2], \"|\", li[3])"
   ]
  },
  {
   "cell_type": "code",
   "execution_count": 75,
   "id": "c9241b87-877a-4923-b892-feeb4f339bc8",
   "metadata": {},
   "outputs": [],
   "source": [
    "def choose_position(li):\n",
    "    display(li)\n",
    "    position = None\n",
    "    while not position:\n",
    "        position  =  input('enter a number between 1-9')\n",
    "        if not position.isdigit():\n",
    "            position = None\n",
    "        elif not int(position) in range(1,10):\n",
    "            position = None\n",
    "        elif not check_position(li, int(position)):\n",
    "            position = None\n",
    "    return int(position)"
   ]
  },
  {
   "cell_type": "code",
   "execution_count": 76,
   "id": "f7eac03f-004f-4da4-9915-13f665c275f6",
   "metadata": {},
   "outputs": [],
   "source": [
    "def check_position(li, position):\n",
    "    if li[position] == \" \":\n",
    "        return True\n",
    "    return False"
   ]
  },
  {
   "cell_type": "code",
   "execution_count": 77,
   "id": "2a8b4e64-7e1b-49d5-9770-447a36ca75e5",
   "metadata": {},
   "outputs": [],
   "source": [
    "li = [\" \"]*10"
   ]
  },
  {
   "cell_type": "code",
   "execution_count": 78,
   "id": "d7aecef5-b67e-425e-88a4-118dec042a7e",
   "metadata": {},
   "outputs": [],
   "source": [
    "li[5] = \"O\""
   ]
  },
  {
   "cell_type": "code",
   "execution_count": 79,
   "id": "245be9a2-33f5-4636-9f33-1b40685395c8",
   "metadata": {},
   "outputs": [
    {
     "name": "stdout",
     "output_type": "stream",
     "text": [
      "  |   |  \n",
      "----------\n",
      "  | O |  \n",
      "----------\n",
      "  |   |  \n"
     ]
    },
    {
     "name": "stdin",
     "output_type": "stream",
     "text": [
      "enter a number between 1-9 8\n"
     ]
    },
    {
     "data": {
      "text/plain": [
       "8"
      ]
     },
     "execution_count": 79,
     "metadata": {},
     "output_type": "execute_result"
    }
   ],
   "source": [
    "choose_position(li)"
   ]
  },
  {
   "cell_type": "code",
   "execution_count": 80,
   "id": "d7d3e473-198d-4287-a953-2064753eecf6",
   "metadata": {},
   "outputs": [],
   "source": [
    "def put_marker(li, marker):\n",
    "    position = choose_position(li)\n",
    "    li[position] = marker\n",
    "    display(li)"
   ]
  },
  {
   "cell_type": "code",
   "execution_count": 81,
   "id": "67b6d325-7815-48ed-acec-532cefe0b647",
   "metadata": {},
   "outputs": [
    {
     "name": "stdout",
     "output_type": "stream",
     "text": [
      "  |   |  \n",
      "----------\n",
      "  | O |  \n",
      "----------\n",
      "  |   |  \n"
     ]
    },
    {
     "name": "stdin",
     "output_type": "stream",
     "text": [
      "enter a number between 1-9 8\n"
     ]
    },
    {
     "name": "stdout",
     "output_type": "stream",
     "text": [
      "  | X |  \n",
      "----------\n",
      "  | O |  \n",
      "----------\n",
      "  |   |  \n"
     ]
    }
   ],
   "source": [
    "put_marker(li, 'X')"
   ]
  },
  {
   "cell_type": "code",
   "execution_count": 82,
   "id": "620bc58e-ea85-4236-a8cb-f26f22d3d316",
   "metadata": {},
   "outputs": [
    {
     "data": {
      "text/plain": [
       "False"
      ]
     },
     "execution_count": 82,
     "metadata": {},
     "output_type": "execute_result"
    }
   ],
   "source": [
    "li[7] == li[8] == li[9] != \" \""
   ]
  },
  {
   "cell_type": "code",
   "execution_count": 83,
   "id": "2ef06a18-55ba-4639-a7f4-88e4ef5a3709",
   "metadata": {},
   "outputs": [],
   "source": [
    "def check_win(li):\n",
    "    for i in range(3,0,-1):\n",
    "        if (li[i] == li[i+3] == li[i+6] != ' ') or (li[i*3] == li[i*3-1] == li[i*3-2] != \" \"):\n",
    "            return True\n",
    "\n",
    "    if li[7] == li[5] == li[3] != \" \":\n",
    "        return True\n",
    "\n",
    "    if li[9] == li[5] == li[1]  != \" \":\n",
    "        return True\n",
    "\n",
    "    return False"
   ]
  },
  {
   "cell_type": "code",
   "execution_count": 84,
   "id": "4110832d-d9d7-4b68-a426-09af0f2e08a4",
   "metadata": {},
   "outputs": [],
   "source": [
    "def full_board(li):\n",
    "    for i in range(1,10):\n",
    "        if li[i] == \" \":\n",
    "            return False\n",
    "    return True"
   ]
  },
  {
   "cell_type": "code",
   "execution_count": 85,
   "id": "1ee61b16-35d6-4bba-996e-3ebd35c421d9",
   "metadata": {},
   "outputs": [],
   "source": [
    "def switch_marker(marker):\n",
    "    if marker == \"X\":\n",
    "        return \"O\"\n",
    "    return \"X\""
   ]
  },
  {
   "cell_type": "code",
   "execution_count": 86,
   "id": "fc7a6504-8328-4ad9-9723-772ccb84edb3",
   "metadata": {},
   "outputs": [],
   "source": [
    "def switch_player(current, player1, player2):\n",
    "    if current == player1:\n",
    "        return player2\n",
    "    elif current == player2:\n",
    "        return player1"
   ]
  },
  {
   "cell_type": "code",
   "execution_count": 87,
   "id": "38a816b1-d2b9-4806-b2ae-d0d6796326a0",
   "metadata": {},
   "outputs": [],
   "source": [
    "def take_name():\n",
    "    player = None\n",
    "    while not player:\n",
    "        player = input('enter your name')\n",
    "        if not player.isalpha():\n",
    "            player = None\n",
    "\n",
    "    return player"
   ]
  },
  {
   "cell_type": "code",
   "execution_count": 88,
   "id": "632f6fdb-83a0-447b-a34b-1a33ce6e133f",
   "metadata": {},
   "outputs": [],
   "source": [
    "import random"
   ]
  },
  {
   "cell_type": "code",
   "execution_count": 89,
   "id": "c821bf94-d45b-4584-a992-63922b2f6c1b",
   "metadata": {},
   "outputs": [
    {
     "data": {
      "text/plain": [
       "3"
      ]
     },
     "execution_count": 89,
     "metadata": {},
     "output_type": "execute_result"
    }
   ],
   "source": [
    "random.randint(3,10)"
   ]
  },
  {
   "cell_type": "code",
   "execution_count": 90,
   "id": "df9c111d-ee2a-4c0d-b67c-d94e52683d1c",
   "metadata": {},
   "outputs": [],
   "source": [
    "def chose_player(player1, player2):\n",
    "    if random.randint(0,1):\n",
    "        return player1\n",
    "    else:\n",
    "        return player2"
   ]
  },
  {
   "cell_type": "code",
   "execution_count": 91,
   "id": "af90111d-f77a-4dc1-931d-7cd9623d8520",
   "metadata": {},
   "outputs": [
    {
     "data": {
      "text/plain": [
       "'shubham'"
      ]
     },
     "execution_count": 91,
     "metadata": {},
     "output_type": "execute_result"
    }
   ],
   "source": [
    "chose_player('shubham', 'abhi')"
   ]
  },
  {
   "cell_type": "code",
   "execution_count": 92,
   "id": "55956187-14ab-4a85-adb4-f3ee4798e307",
   "metadata": {},
   "outputs": [],
   "source": [
    "def choose_marker():\n",
    "    marker = None\n",
    "    while not marker:\n",
    "        marker = input('enter X or O')\n",
    "        if marker.strip().upper() not in (\"X\", \"O\"):\n",
    "            marker = None\n",
    "\n",
    "    return marker.strip().upper()"
   ]
  },
  {
   "cell_type": "code",
   "execution_count": 93,
   "id": "e746cc8c-b545-434c-9924-d53956a5998d",
   "metadata": {},
   "outputs": [
    {
     "name": "stdin",
     "output_type": "stream",
     "text": [
      "enter X or O x\n"
     ]
    },
    {
     "data": {
      "text/plain": [
       "'X'"
      ]
     },
     "execution_count": 93,
     "metadata": {},
     "output_type": "execute_result"
    }
   ],
   "source": [
    "choose_marker()"
   ]
  },
  {
   "cell_type": "code",
   "execution_count": 94,
   "id": "8109e91a-fede-4225-9e0f-7487a9a5a8f2",
   "metadata": {},
   "outputs": [
    {
     "name": "stdout",
     "output_type": "stream",
     "text": [
      "bansal won\n",
      "X | X | X\n",
      "----------\n",
      "O |   |  \n",
      "----------\n",
      "X | O | O\n"
     ]
    }
   ],
   "source": [
    "Game = True\n",
    "first_game = True\n",
    "repeat = False\n",
    "while Game:\n",
    "    if first_game:\n",
    "        li = [\" \"]*10\n",
    "        print('welcome players')\n",
    "        print(\"player1\")\n",
    "        player1 = take_name()\n",
    "        clear_output()\n",
    "        print('player2')\n",
    "        player2 = take_name()\n",
    "        clear_output()\n",
    "        print('welcome', player1, player2)\n",
    "        first_game =False\n",
    "\n",
    "    if not repeat: \n",
    "        li = [\" \"]*10\n",
    "        cur_player = chose_player(player1, player2)\n",
    "        print(cur_player, \"will play first, choose marker\")\n",
    "        marker = choose_marker()\n",
    "        clear_output()\n",
    "        repeat = True\n",
    "    #display(li)\n",
    "    put_marker(li, marker)\n",
    "    clear_output()\n",
    "    if check_win(li):\n",
    "        print(cur_player, \"won\")\n",
    "        display(li)\n",
    "        break\n",
    "    if full_board(li):\n",
    "        print('match is draw')\n",
    "        display(li)\n",
    "        break   \n",
    "    marker= switch_marker(marker)\n",
    "    cur_player = switch_player(cur_player, player1, player2)"
   ]
  },
  {
   "cell_type": "code",
   "execution_count": null,
   "id": "6d3c03a3-fc97-48cb-9d6d-7aaea74d8e5f",
   "metadata": {},
   "outputs": [],
   "source": []
  }
 ],
 "metadata": {
  "kernelspec": {
   "display_name": "Python [conda env:base] *",
   "language": "python",
   "name": "conda-base-py"
  },
  "language_info": {
   "codemirror_mode": {
    "name": "ipython",
    "version": 3
   },
   "file_extension": ".py",
   "mimetype": "text/x-python",
   "name": "python",
   "nbconvert_exporter": "python",
   "pygments_lexer": "ipython3",
   "version": "3.13.5"
  }
 },
 "nbformat": 4,
 "nbformat_minor": 5
}
